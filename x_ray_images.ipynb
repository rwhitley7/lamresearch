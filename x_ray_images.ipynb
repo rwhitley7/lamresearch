{
 "cells": [
  {
   "cell_type": "code",
   "execution_count": null,
   "metadata": {},
   "outputs": [],
   "source": [
    "import os\n",
    "import numpy as np\n",
    "import matplotlib.pyplot as plt\n",
    "import matplotlib.patches as patches\n",
    "import shutil\n",
    "\n",
    "plt.rcParams[\"figure.figsize\"] = (10,10)\n",
    "print(\"Current working directory = \",os.getcwd())"
   ]
  },
  {
   "cell_type": "code",
   "execution_count": null,
   "metadata": {},
   "outputs": [],
   "source": [
    "base_dir = 'GDXray/Castings'\n",
    "list_base_dir = sorted(os.listdir(base_dir))[1:]\n",
    "\n",
    "print('Folders in base directory = ',list_base_dir)"
   ]
  },
  {
   "cell_type": "code",
   "execution_count": null,
   "metadata": {},
   "outputs": [],
   "source": [
    "# find folders with ground truth bounding box data (also miss out: C0002, C0029, C0034, C0041)\n",
    "\n",
    "gt_dir = []\n",
    "exclude_folders = ['C0002', 'C0029', 'C0034', 'C0041']\n",
    "\n",
    "for folder in list_base_dir:\n",
    "    pth = os.path.join(base_dir,folder)\n",
    "    files = sorted(os.listdir(pth))\n",
    "    if 'ground_truth.txt' in files and folder not in exclude_folders:\n",
    "        gt_dir.append(folder)\n",
    "    else:\n",
    "        continue\n",
    "\n",
    "print(\"Folders in base directory with ground truth = \",gt_dir)\n",
    "print(\"Number of folders with ground truth = \",len(gt_dir))"
   ]
  },
  {
   "cell_type": "code",
   "execution_count": null,
   "metadata": {},
   "outputs": [],
   "source": [
    "# create train and test split\n",
    "\n",
    "train_folder = ['C0001', 'C0030', 'C0045', 'C0047', 'C0054', 'C0055', 'C0057', 'C0062',\n",
    "          'C0008', 'C0010', 'C0015', 'C0019', 'C0035', 'C0038', 'C0039', 'C0040', 'C0060',\n",
    "          'C0024', 'C0031', 'C0033', 'C0043']\n",
    "          \n",
    "test_folder = ['C0021', 'C0051', 'C0065',\n",
    "         'C0007', 'C0032', 'C0042',\n",
    "         'C0026', 'C0036']"
   ]
  },
  {
   "cell_type": "code",
   "execution_count": null,
   "metadata": {},
   "outputs": [],
   "source": [
    "# place all images into one folder\n",
    "\n",
    "count_images = 0\n",
    "\n",
    "for folder in gt_dir:\n",
    "    pth = os.path.join(base_dir,folder)\n",
    "    files = sorted(os.listdir(pth))\n",
    "    for file in files:\n",
    "        if file[-3:] == 'png':\n",
    "            shutil.copy(os.path.join(pth,file),os.path.join(base_dir,'Castings_images',str(count_images).zfill(4)+'.png'))\n",
    "            count_images += 1\n",
    "        else:\n",
    "            continue\n"
   ]
  },
  {
   "cell_type": "code",
   "execution_count": null,
   "metadata": {},
   "outputs": [],
   "source": [
    "# convert to yolo format and write to seperate txt files\n",
    "\n",
    "count_gt = 0\n",
    "\n",
    "for folder in gt_dir:\n",
    "    pth = os.path.join(base_dir,folder)\n",
    "    files = sorted(os.listdir(pth))\n",
    "    num_in_folder = 0\n",
    "    for file in files:\n",
    "        if file[-3:] == 'png':\n",
    "            num_in_folder += 1\n",
    "    ground_truth = open(os.path.join(pth,'ground_truth.txt'),'r')\n",
    "    lines = ground_truth.readlines()\n",
    "    for i in range(num_in_folder):\n",
    "        with open('GDXray/Castings/Castings_yolo_labels/{}.txt'.format(str(int(i+count_gt)).zfill(4)), 'w') as f:\n",
    "                  pass\n",
    "    for line in lines:\n",
    "        bbox = line[3:-1].split('   ')\n",
    "        image = plt.imread(os.path.join(base_dir,'Castings_images',str(int(float(bbox[0])-1+count_gt)).zfill(4)+'.png'))\n",
    "        width = image.shape[1]\n",
    "        height = image.shape[0]\n",
    "        x1,x2,y1,y2 = float(bbox[1]), float(bbox[2]), float(bbox[3]), float(bbox[4])\n",
    "        X, Y, W, H = format(((x1+x2)/width)/2,'.6f'), format(((y1+y2)/height)/2,'.6f'), format(((x2-x1)/width),'.6f'), format(((y2-y1)/height),'.6f')\n",
    "        with open('GDXray/Castings/Castings_yolo_labels/{}.txt'.format(str(int(float(bbox[0])-1+count_gt)).zfill(4)), 'a') as f:\n",
    "            f.write(f'{0} {X} {Y} {W} {H}\\n')\n",
    "    count_gt += num_in_folder\n",
    "    #print(\"count = \",count_gt)\n",
    "    \n",
    "    "
   ]
  },
  {
   "cell_type": "code",
   "execution_count": null,
   "metadata": {},
   "outputs": [],
   "source": [
    "# plot random image and bounding box by converting yolo\n",
    "\n",
    "new_image_dir = os.path.join(base_dir,'Castings_images')\n",
    "new_label_dir = os.path.join(base_dir,'Castings_yolo_labels')\n",
    "\n",
    "num = 100\n",
    "image_num = str(num).zfill(4)\n",
    "img = plt.imread(os.path.join(new_image_dir,'{}.png'.format(image_num)))\n",
    "print(\"Image shape = \",img.shape)\n",
    "width_im = img.shape[1]\n",
    "height_im = img.shape[0]\n",
    "\n",
    "with open(os.path.join(new_label_dir,'{}.txt'.format(image_num)),'r') as f:\n",
    "    lines = f.readlines()\n",
    "\n",
    "#x_min, x_max, y_min, y_max = [],[],[],[]\n",
    "#width, height = [],[]\n",
    "#rects = []\n",
    "fig,ax = plt.subplots()\n",
    "\n",
    "for line in lines:\n",
    "    line = line.split(' ')\n",
    "    width = float(line[3])\n",
    "    height = float(line[4])\n",
    "    x_min = (float(line[1]) - 0.5*width)*width_im\n",
    "    x_max = (float(line[1]) + 0.5*width)*width_im\n",
    "    y_min = (float(line[2]) - 0.5*height)*height_im\n",
    "    y_max = (float(line[2]) + 0.5*height)*height_im\n",
    "    rect = patches.Rectangle((x_min,y_min), width*width_im, height*height_im, linewidth=3, edgecolor='r', facecolor='none')\n",
    "    ax.add_patch(rect)\n",
    "\n",
    "ax.imshow(img,cmap='gray')\n",
    "#ax = plt.gca()\n",
    "ax.axes.xaxis.set_visible(False)\n",
    "ax.axes.yaxis.set_visible(False)\n",
    "\n",
    "plt.show()"
   ]
  },
  {
   "cell_type": "code",
   "execution_count": null,
   "metadata": {},
   "outputs": [],
   "source": [
    "# place all bboxes on images and save individually\n",
    "\n",
    "new_image_dir = os.path.join(base_dir,'Castings_images')\n",
    "new_label_dir = os.path.join(base_dir,'Castings_yolo_labels')\n",
    "bbox_image_dir = os.path.join(base_dir,'Castings_images_with_bbox')\n",
    "num_images = len(os.listdir(new_image_dir)[1:])\n",
    "\n",
    "for i in range(num_images):\n",
    "    num = i\n",
    "    image_num = str(num).zfill(4)\n",
    "    img = plt.imread(os.path.join(new_image_dir,'{}.png'.format(image_num)))\n",
    "    #print(\"Image shape = \",img.shape)\n",
    "    width_im = img.shape[1]\n",
    "    height_im = img.shape[0]\n",
    "\n",
    "    with open(os.path.join(new_label_dir,'{}.txt'.format(image_num)),'r') as f:\n",
    "        lines = f.readlines()\n",
    "        \n",
    "    fig,ax = plt.subplots()\n",
    "\n",
    "    for line in lines:\n",
    "        line = line.split(' ')\n",
    "        width = float(line[3])\n",
    "        height = float(line[4])\n",
    "        x_min = (float(line[1]) - 0.5*width)*width_im\n",
    "        x_max = (float(line[1]) + 0.5*width)*width_im\n",
    "        y_min = (float(line[2]) - 0.5*height)*height_im\n",
    "        y_max = (float(line[2]) + 0.5*height)*height_im\n",
    "        rect = patches.Rectangle((x_min,y_min), width*width_im, height*height_im, linewidth=3, edgecolor='r', facecolor='none')\n",
    "        ax.add_patch(rect)\n",
    "\n",
    "#     ax.imshow(img,cmap='gray')\n",
    "#     ax = plt.gca()\n",
    "#     ax.axes.xaxis.set_visible(False)\n",
    "#     ax.axes.yaxis.set_visible(False)\n",
    "#     plt.savefig(os.path.join(bbox_image_dir,'{}.png'.format(image_num)),bbox_inches='tight')\n",
    "#     plt.show()"
   ]
  }
 ],
 "metadata": {
  "kernelspec": {
   "display_name": "Python 3",
   "language": "python",
   "name": "python3"
  },
  "language_info": {
   "codemirror_mode": {
    "name": "ipython",
    "version": 3
   },
   "file_extension": ".py",
   "mimetype": "text/x-python",
   "name": "python",
   "nbconvert_exporter": "python",
   "pygments_lexer": "ipython3",
   "version": "3.8.3"
  },
  "widgets": {
   "application/vnd.jupyter.widget-state+json": {
    "state": {},
    "version_major": 2,
    "version_minor": 0
   }
  }
 },
 "nbformat": 4,
 "nbformat_minor": 4
}
